{
 "cells": [
  {
   "cell_type": "code",
   "execution_count": 1,
   "metadata": {},
   "outputs": [],
   "source": [
    "from scipy.stats import spearmanr\n",
    "import pandas as pd\n",
    "import numpy as np\n",
    "import matplotlib.pyplot as plt\n",
    "import os\n",
    "import shutil\n",
    "from scipy.stats import rankdata\n",
    "import time\n",
    "from scipy.spatial.distance import pdist, squareform\n",
    "import _pickle as cp"
   ]
  },
  {
   "cell_type": "code",
   "execution_count": 2,
   "metadata": {},
   "outputs": [],
   "source": [
    "a = np.random.rand(10,10)"
   ]
  },
  {
   "cell_type": "code",
   "execution_count": 3,
   "metadata": {},
   "outputs": [],
   "source": [
    "corr = np.corrcoef(np.transpose(a))\n",
    "corr = 1 - corr\n",
    "corr = np.around(a=corr, decimals=10)"
   ]
  },
  {
   "cell_type": "code",
   "execution_count": 6,
   "metadata": {},
   "outputs": [],
   "source": [
    "num_r = num_c = 10\n",
    "num = num_r\n",
    "tril_id = np.tril_indices(num, k=-1)\n",
    "rank = rankdata(corr[tril_id])\n",
    "feature_ranking = np.zeros((num,num))\n",
    "feature_ranking[tril_id] = rank\n",
    "feature_ranking = feature_ranking + feature_ranking.T"
   ]
  },
  {
   "cell_type": "code",
   "execution_count": 7,
   "metadata": {},
   "outputs": [],
   "source": [
    "for r in range(num_r):\n",
    "    if r == 0:\n",
    "        coordinate = np.transpose(np.vstack((np.zeros(num_c), range(num_c))))\n",
    "    else:\n",
    "        coordinate = np.vstack((coordinate, np.transpose(np.vstack((np.ones(num_c) * r, range(num_c))))))"
   ]
  },
  {
   "cell_type": "code",
   "execution_count": 8,
   "metadata": {},
   "outputs": [
    {
     "data": {
      "text/plain": [
       "array([[0., 0.],\n",
       "       [0., 1.],\n",
       "       [0., 2.],\n",
       "       [0., 3.],\n",
       "       [0., 4.],\n",
       "       [0., 5.],\n",
       "       [0., 6.],\n",
       "       [0., 7.],\n",
       "       [0., 8.],\n",
       "       [0., 9.],\n",
       "       [1., 0.],\n",
       "       [1., 1.],\n",
       "       [1., 2.],\n",
       "       [1., 3.],\n",
       "       [1., 4.],\n",
       "       [1., 5.],\n",
       "       [1., 6.],\n",
       "       [1., 7.],\n",
       "       [1., 8.],\n",
       "       [1., 9.],\n",
       "       [2., 0.],\n",
       "       [2., 1.],\n",
       "       [2., 2.],\n",
       "       [2., 3.],\n",
       "       [2., 4.],\n",
       "       [2., 5.],\n",
       "       [2., 6.],\n",
       "       [2., 7.],\n",
       "       [2., 8.],\n",
       "       [2., 9.],\n",
       "       [3., 0.],\n",
       "       [3., 1.],\n",
       "       [3., 2.],\n",
       "       [3., 3.],\n",
       "       [3., 4.],\n",
       "       [3., 5.],\n",
       "       [3., 6.],\n",
       "       [3., 7.],\n",
       "       [3., 8.],\n",
       "       [3., 9.],\n",
       "       [4., 0.],\n",
       "       [4., 1.],\n",
       "       [4., 2.],\n",
       "       [4., 3.],\n",
       "       [4., 4.],\n",
       "       [4., 5.],\n",
       "       [4., 6.],\n",
       "       [4., 7.],\n",
       "       [4., 8.],\n",
       "       [4., 9.],\n",
       "       [5., 0.],\n",
       "       [5., 1.],\n",
       "       [5., 2.],\n",
       "       [5., 3.],\n",
       "       [5., 4.],\n",
       "       [5., 5.],\n",
       "       [5., 6.],\n",
       "       [5., 7.],\n",
       "       [5., 8.],\n",
       "       [5., 9.],\n",
       "       [6., 0.],\n",
       "       [6., 1.],\n",
       "       [6., 2.],\n",
       "       [6., 3.],\n",
       "       [6., 4.],\n",
       "       [6., 5.],\n",
       "       [6., 6.],\n",
       "       [6., 7.],\n",
       "       [6., 8.],\n",
       "       [6., 9.],\n",
       "       [7., 0.],\n",
       "       [7., 1.],\n",
       "       [7., 2.],\n",
       "       [7., 3.],\n",
       "       [7., 4.],\n",
       "       [7., 5.],\n",
       "       [7., 6.],\n",
       "       [7., 7.],\n",
       "       [7., 8.],\n",
       "       [7., 9.],\n",
       "       [8., 0.],\n",
       "       [8., 1.],\n",
       "       [8., 2.],\n",
       "       [8., 3.],\n",
       "       [8., 4.],\n",
       "       [8., 5.],\n",
       "       [8., 6.],\n",
       "       [8., 7.],\n",
       "       [8., 8.],\n",
       "       [8., 9.],\n",
       "       [9., 0.],\n",
       "       [9., 1.],\n",
       "       [9., 2.],\n",
       "       [9., 3.],\n",
       "       [9., 4.],\n",
       "       [9., 5.],\n",
       "       [9., 6.],\n",
       "       [9., 7.],\n",
       "       [9., 8.],\n",
       "       [9., 9.]])"
      ]
     },
     "execution_count": 8,
     "metadata": {},
     "output_type": "execute_result"
    }
   ],
   "source": [
    "coordinate"
   ]
  },
  {
   "cell_type": "code",
   "execution_count": 17,
   "metadata": {},
   "outputs": [],
   "source": [
    "num = num_r * num_c\n",
    "cord_dist = np.zeros((num, num))    \n",
    "for i in range(num_r):\n",
    "    cord_dist[i, :] = np.sqrt(np.square(coordinate[i, 0] * np.ones(num) - coordinate[:, 0]) + \\\n",
    "         np.square(coordinate[i, 1] * np.ones(num) - coordinate[:, 1]))"
   ]
  },
  {
   "cell_type": "code",
   "execution_count": 18,
   "metadata": {},
   "outputs": [],
   "source": [
    "tril_id = np.tril_indices(num, k=-1)\n",
    "rank = rankdata(cord_dist[tril_id])\n",
    "coor_ranking = np.zeros((num, num))\n",
    "coor_ranking[tril_id] = rank\n",
    "coor_ranking = coor_ranking + np.transpose(coor_ranking)\n",
    "coordinate = np.int64(coordinate)"
   ]
  },
  {
   "cell_type": "code",
   "execution_count": 21,
   "metadata": {},
   "outputs": [],
   "source": [
    "generate_coor_matrix = (coordinate[:, 0], coordinate[:, 1]), coor_ranking"
   ]
  },
  {
   "cell_type": "code",
   "execution_count": 22,
   "metadata": {},
   "outputs": [],
   "source": [
    "max_step = 1000"
   ]
  },
  {
   "cell_type": "code",
   "execution_count": 23,
   "metadata": {},
   "outputs": [],
   "source": [
    "source = feature_ranking.copy()\n",
    "num = source.shape[0]\n",
    "tril_id = np.array(range(num))\n",
    "index = np.array(range(num))\n",
    "index_record = np.empty((max_step + 1, num))\n",
    "index_record.fill(np.nan)\n",
    "index_record[0, :] = index.copy()"
   ]
  },
  {
   "cell_type": "code",
   "execution_count": 26,
   "metadata": {},
   "outputs": [
    {
     "data": {
      "text/plain": [
       "array([[ 0., 29., 18., 40., 32., 45., 12., 23., 39., 21.],\n",
       "       [29.,  0., 17., 13., 36.,  2., 20.,  3.,  9., 31.],\n",
       "       [18., 17.,  0., 43., 41., 28.,  1., 26., 10., 37.],\n",
       "       [40., 13., 43.,  0.,  8.,  5., 42.,  6., 15., 22.],\n",
       "       [32., 36., 41.,  8.,  0., 27., 44., 25., 34., 19.],\n",
       "       [45.,  2., 28.,  5., 27.,  0., 38.,  7.,  4., 14.],\n",
       "       [12., 20.,  1., 42., 44., 38.,  0., 30., 11., 24.],\n",
       "       [23.,  3., 26.,  6., 25.,  7., 30.,  0., 35., 16.],\n",
       "       [39.,  9., 10., 15., 34.,  4., 11., 35.,  0., 33.],\n",
       "       [21., 31., 37., 22., 19., 14., 24., 16., 33.,  0.]])"
      ]
     },
     "execution_count": 26,
     "metadata": {},
     "output_type": "execute_result"
    }
   ],
   "source": [
    "feature_ranking"
   ]
  },
  {
   "cell_type": "code",
   "execution_count": 25,
   "metadata": {},
   "outputs": [
    {
     "data": {
      "text/plain": [
       "(100, 100)"
      ]
     },
     "execution_count": 25,
     "metadata": {},
     "output_type": "execute_result"
    }
   ],
   "source": [
    "coor_ranking.shape"
   ]
  },
  {
   "cell_type": "markdown",
   "metadata": {},
   "source": [
    "JENSEN SHANNON DISTANCE METRIC "
   ]
  },
  {
   "cell_type": "code",
   "execution_count": 47,
   "metadata": {},
   "outputs": [],
   "source": [
    "from scipy.stats import entropy"
   ]
  },
  {
   "cell_type": "code",
   "execution_count": 48,
   "metadata": {},
   "outputs": [],
   "source": [
    "def jensen_shannon_distance(x1: np.ndarray, x2: np.ndarray) -> float:\n",
    "    m = 0.5 * (x1 + x2)\n",
    "    kl_div_x1m = entropy(x1, m)\n",
    "    kl_div_x2m = entropy(x2, m)\n",
    "    return np.sqrt(0.5*kl_div_x1m + 0.5*kl_div_x2m)\n"
   ]
  },
  {
   "cell_type": "code",
   "execution_count": 49,
   "metadata": {},
   "outputs": [],
   "source": [
    "def normalized_data(data):\n",
    "    return data / data.sum(axis=1, keepdims=1)"
   ]
  },
  {
   "cell_type": "code",
   "execution_count": 50,
   "metadata": {},
   "outputs": [
    {
     "data": {
      "text/plain": [
       "array([[1, 2, 3],\n",
       "       [4, 5, 6],\n",
       "       [7, 8, 9]])"
      ]
     },
     "execution_count": 50,
     "metadata": {},
     "output_type": "execute_result"
    }
   ],
   "source": [
    "data = np.array([[1,2,3],[4,5,6],[7,8,9]])\n",
    "data"
   ]
  },
  {
   "cell_type": "code",
   "execution_count": 51,
   "metadata": {},
   "outputs": [
    {
     "data": {
      "text/plain": [
       "array([[0.08333333, 0.33333333, 0.58333333],\n",
       "       [0.13333333, 0.33333333, 0.53333333],\n",
       "       [0.16666667, 0.33333333, 0.5       ]])"
      ]
     },
     "execution_count": 51,
     "metadata": {},
     "output_type": "execute_result"
    }
   ],
   "source": [
    "data = normalized_data(data.T)\n",
    "data"
   ]
  },
  {
   "cell_type": "code",
   "execution_count": 52,
   "metadata": {},
   "outputs": [
    {
     "data": {
      "text/plain": [
       "0.03740384776285771"
      ]
     },
     "execution_count": 52,
     "metadata": {},
     "output_type": "execute_result"
    }
   ],
   "source": [
    "entropy(data[:,0], data[:,1],)"
   ]
  },
  {
   "cell_type": "code",
   "execution_count": 55,
   "metadata": {},
   "outputs": [
    {
     "data": {
      "text/plain": [
       "array([[0.        , 0.10693419, 0.14038336],\n",
       "       [0.10693419, 0.        , 0.02301584],\n",
       "       [0.14038336, 0.02301584, 0.        ]])"
      ]
     },
     "execution_count": 55,
     "metadata": {},
     "output_type": "execute_result"
    }
   ],
   "source": [
    "res = np.zeros((3,3))\n",
    "for i in range(3):\n",
    "    for j in range(i):\n",
    "        res[i,j] = jensen_shannon_distance(data[:,i], data[:, j])\n",
    "        res[j,i] = res[i,j]\n",
    "res"
   ]
  },
  {
   "cell_type": "code",
   "execution_count": null,
   "metadata": {},
   "outputs": [],
   "source": []
  }
 ],
 "metadata": {
  "interpreter": {
   "hash": "c983f54d023acccf61f648ed8b890d00f7b7e24eb37b78b58956963ea040bcd7"
  },
  "kernelspec": {
   "display_name": "Python 3.9.12 ('dl-workshop')",
   "language": "python",
   "name": "python3"
  },
  "language_info": {
   "codemirror_mode": {
    "name": "ipython",
    "version": 3
   },
   "file_extension": ".py",
   "mimetype": "text/x-python",
   "name": "python",
   "nbconvert_exporter": "python",
   "pygments_lexer": "ipython3",
   "version": "3.9.12"
  },
  "orig_nbformat": 4
 },
 "nbformat": 4,
 "nbformat_minor": 2
}
