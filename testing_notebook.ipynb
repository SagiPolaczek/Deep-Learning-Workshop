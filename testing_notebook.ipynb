{
 "cells": [
  {
   "cell_type": "code",
   "execution_count": 10,
   "metadata": {},
   "outputs": [
    {
     "name": "stdout",
     "output_type": "stream",
     "text": [
      "pad - OK\n"
     ]
    }
   ],
   "source": [
    "import tac.utils\n",
    "import numpy as np\n",
    "\n",
    "\n",
    "# Testing pad\n",
    "assert np.array_equal(tac.utils.pad([1,1], 2), [0, 1, 1, 0])\n",
    "assert np.array_equal(tac.utils.pad([1], 2), [0, 0, 1, 0])\n",
    "assert np.array_equal(tac.utils.pad([1, 2, 3, 4, 5], 3, mode='zeros'), [0, 0, 1, 2, 3, 4, 5, 0, 0])\n",
    "# tac.utils.pad(a, 2) # should raise an error (V)\n",
    "print(\"pad - OK\")\n"
   ]
  },
  {
   "cell_type": "code",
   "execution_count": 11,
   "metadata": {},
   "outputs": [
    {
     "name": "stdout",
     "output_type": "stream",
     "text": [
      "nearest_odd_root - OK\n"
     ]
    }
   ],
   "source": [
    "import tac.utils\n",
    "\n",
    "\n",
    "# Testing nearest_odd_root\n",
    "assert tac.utils.nearest_odd_root(25) ==  5\n",
    "assert tac.utils.nearest_odd_root(26) == 7\n",
    "assert tac.utils.nearest_odd_root(48) == 7\n",
    "\n",
    "print(\"nearest_odd_root - OK\")"
   ]
  }
 ],
 "metadata": {
  "interpreter": {
   "hash": "31f2aee4e71d21fbe5cf8b01ff0e069b9275f58929596ceb00d14d90e3e16cd6"
  },
  "kernelspec": {
   "display_name": "Python 3.8.9 64-bit",
   "language": "python",
   "name": "python3"
  },
  "language_info": {
   "codemirror_mode": {
    "name": "ipython",
    "version": 3
   },
   "file_extension": ".py",
   "mimetype": "text/x-python",
   "name": "python",
   "nbconvert_exporter": "python",
   "pygments_lexer": "ipython3",
   "version": "3.8.9"
  },
  "orig_nbformat": 4
 },
 "nbformat": 4,
 "nbformat_minor": 2
}
